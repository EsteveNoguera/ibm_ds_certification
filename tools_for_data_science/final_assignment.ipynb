{
 "cells": [
  {
   "cell_type": "markdown",
   "metadata": {},
   "source": [
    "<center>\n",
    "    <img src=\"https://cf-courses-data.s3.us.cloud-object-storage.appdomain.cloud/IBMDeveloperSkillsNetwork-DS0105EN-SkillsNetwork/labs/Module2/images/SN_web_lightmode.png\" width=\"300\" alt=\"cognitiveclass.ai logo\">\n",
    "</center>\n"
   ]
  },
  {
   "cell_type": "markdown",
   "metadata": {},
   "source": [
    "# Final assignment for Tools in Data Science"
   ]
  },
  {
   "cell_type": "markdown",
   "metadata": {},
   "source": [
    "## Introduction\n",
    "\n",
    "This notebook is the final assignment for the course *Tools for Data Science* offered by IBM at Coursera. In the following cells there will be some basic exposition of Data Science tools, libraries and some simple Rmarkdown and Python code in order to present all exercises. As a matter of fact, this very same introduction is an exercise, to be precise, exercise 3!"
   ]
  },
  {
   "cell_type": "markdown",
   "metadata": {},
   "source": [
    "### Data Science languages\n",
    "\n",
    "Some examples of Data Science Languages are:\n",
    "\n",
    "* Python\n",
    "* R\n",
    "* SQL\n",
    "* Scala\n",
    "* JavaScript\n",
    "* C++\n",
    "* and more..."
   ]
  },
  {
   "cell_type": "markdown",
   "metadata": {},
   "source": [
    "### Data Science libraries\n",
    "\n",
    "There are different libraries available to different programming languages, some of them are:\n",
    "\n",
    "1. **Matplotlib**: plots in Python\n",
    "2. **ggplot**: the same as the last one, but in R\n",
    "3. **caret**: Machine Learning library in R\n",
    "4. **scikit-learn**: the same as the last one, but in Python (you start to see the pattern? you may be a ML algorithm...)\n",
    "5. **Pandas**: library to manipulate and manage data in Python\n",
    "6. **dplyr**: guess what but in R. \n",
    "7. **NumPy**: mathematical tools for Python\n",
    "8. **SciPy**: some more other mathematical functionalities for Python (eigenvalues, integration, etc.)\n",
    "9. and many more!"
   ]
  },
  {
   "cell_type": "markdown",
   "metadata": {},
   "source": [
    "### Data Science Tools\n",
    "\n",
    "Here there is a table with some of the tools that are mentioned in this course\n",
    "\n",
    "| Name| Open source? | Description |\n",
    "| --- | ----------- | ----------- |\n",
    "| Rstudio | yes |Integrated Development Environment for R |\n",
    "| JupyterLab | yes | Integrated Development Environment for Python, R and other languages |\n",
    "| GitHub | yes | Version control repository for your projects |\n",
    "| Watson Studio | no | IDE developed by IBM that merges plenty of utilities for Data Science, including the ones above |"
   ]
  },
  {
   "cell_type": "markdown",
   "metadata": {},
   "source": [
    "### Markdown to annotate math stuff\n",
    "\n",
    "Although we may forget, stats and math are (together with the data) at the heart of Data Science. And sometimes we may want to do some annotations, equations and other things to illustrate our notebook. For that you can just write a mathematical expression between single $\\$$ to obtain something as basic as $1+1=2$ or double to write an equation:\n",
    "\n",
    "$$ 1 + 1 = 2 $$\n",
    "\n",
    "You can also add fractions, substractions, multiplcations and other basic operations. It basically follows a LaTeX syntax:\n",
    "\n",
    "$$ x = \\frac{-b \\pm \\sqrt{b^2-4ac}}{2a} $$"
   ]
  },
  {
   "cell_type": "markdown",
   "metadata": {},
   "source": [
    "### Code to multiply and add numbers (Python)\n",
    "\n",
    "Following, there's a little code to do multiplication and addition of numbers. In Python the operators used to do this are * and + respectively.So for instance if we create a code to add two numbers introduced by a user, we need to do \n",
    "```python\n",
    "5*6 \n",
    "6+5\n",
    "```\n",
    "to get 30 and 11. The code below saves these same values into 2 varialbes (value1 and value2) and prints their multiplication and addition. "
   ]
  },
  {
   "cell_type": "code",
   "execution_count": 1,
   "metadata": {
    "tags": []
   },
   "outputs": [
    {
     "name": "stdin",
     "output_type": "stream",
     "text": [
      "Introduce the first number:  5\n",
      "Introduce the second number:  6\n"
     ]
    },
    {
     "name": "stdout",
     "output_type": "stream",
     "text": [
      "The multiplication of 5 and 6 is: 30\n",
      "And the addition of 5 and 6 is: 11\n"
     ]
    }
   ],
   "source": [
    "# User can introduce the values\n",
    "value1=int(input(\"Introduce the first number: \"))\n",
    "value2=int(input(\"Introduce the second number: \"))\n",
    "\n",
    "# Priting values and their result after multiplication and addition\n",
    "print(\"The multiplication of\", value1, \"and\", value2, \"is:\", value1*value2)\n",
    "print(\"And the addition of\", value1, \"and\", value2, \"is:\", value1+value2)"
   ]
  },
  {
   "cell_type": "markdown",
   "metadata": {},
   "source": [
    "### Code to convert minutes to hours (Python)\n",
    "\n",
    "Now, we are going to use the following operators // and %. These are known as intenger division and modulo. With integer division you get what it says, the integer division. With the modulo operator you get the remainder of a integer division. In conjunction we can build a little calculator to get the number of hours given a quantity of minutes."
   ]
  },
  {
   "cell_type": "code",
   "execution_count": 2,
   "metadata": {
    "tags": []
   },
   "outputs": [
    {
     "name": "stdin",
     "output_type": "stream",
     "text": [
      "Introduce minutes:  377\n"
     ]
    },
    {
     "name": "stdout",
     "output_type": "stream",
     "text": [
      "In 377 minutes there are 6 hours and 17 minutes\n"
     ]
    }
   ],
   "source": [
    "# User can introduce the values for the minutes\n",
    "minutes=int(input(\"Introduce minutes: \"))\n",
    "hours=minutes // 60 # total of hours \n",
    "remainder=minutes % 60 # remainder of minutes\n",
    "print(\"In\", minutes, \"minutes there are\", hours, \"hours and\", remainder, \"minutes\")"
   ]
  },
  {
   "cell_type": "markdown",
   "metadata": {},
   "source": [
    "### Objectives\n",
    "\n",
    "So the objectives for this notebook are:\n",
    "\n",
    "1. Learning basic functionalities in Jupyter, like introducing cells and learning Markdown language\n",
    "2. Understand and manage projects in Watson Studio (if used)\n",
    "3. Creating your own repository in GitHub to upload this notebook to be peer-reviewed. "
   ]
  },
  {
   "cell_type": "markdown",
   "metadata": {},
   "source": [
    "### Author\n",
    "Esteve Noguera Llinas"
   ]
  }
 ],
 "metadata": {
  "kernelspec": {
   "display_name": "Python 3 (ipykernel)",
   "language": "python",
   "name": "python3"
  },
  "language_info": {
   "codemirror_mode": {
    "name": "ipython",
    "version": 3
   },
   "file_extension": ".py",
   "mimetype": "text/x-python",
   "name": "python",
   "nbconvert_exporter": "python",
   "pygments_lexer": "ipython3",
   "version": "3.10.9"
  }
 },
 "nbformat": 4,
 "nbformat_minor": 4
}
