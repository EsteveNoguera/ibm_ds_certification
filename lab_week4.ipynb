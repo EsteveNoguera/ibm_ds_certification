{
 "cells": [
  {
   "cell_type": "markdown",
   "metadata": {},
   "source": [
    "# Jupyter Notebook on IBM Watson Studio:  Introduction"
   ]
  },
  {
   "cell_type": "markdown",
   "metadata": {},
   "source": [
    "**Esteve Noguera Llinas** \n",
    "\n",
    "Former bioinformatician and now a high school science teacher."
   ]
  },
  {
   "cell_type": "markdown",
   "metadata": {},
   "source": [
    "*I've always had a very empirical mindset. That's why I think decissions made from extracting knowledge from data are essential to ensure good outcomes. This makes me fall naturally into the Data Science field. I had the chance of working as a bioinformatician trying to model and get a better understanding of leukaemia. I believe recent advances and developments (a.k.a. covid-19...) are causing enterprises to adapt and allowing people to work from home. This gives me the opportunity to get back in bussiness since I would like to stay in my home island, this time as data scientists or data analyst for a biotech or pharma company*"
   ]
  },
  {
   "cell_type": "markdown",
   "metadata": {},
   "source": [
    "### Looping through new data until we get a cure for leukaemia (code example)"
   ]
  },
  {
   "cell_type": "code",
   "execution_count": 1,
   "metadata": {
    "scrolled": true,
    "tags": []
   },
   "outputs": [
    {
     "name": "stdout",
     "output_type": "stream",
     "text": [
      "As long there's new data to find the cure of leukaemia, you gotta keep trying...\n",
      "...and keep trying...\n",
      "...and keep trying...\n",
      "...and keep trying...\n",
      "...until you find the cure!\n"
     ]
    }
   ],
   "source": [
    "new_data = [\"no_cure\",\"no_cure\", \"no_cure\", \"cure\"]\n",
    "\n",
    "print(\"As long there's new data to find the cure of leukaemia, you gotta keep trying...\")\n",
    "\n",
    "for item in new_data:\n",
    "    if item == \"cure\":\n",
    "        print(\"...until you find the cure!\")\n",
    "    else:\n",
    "        print(\"...and keep trying...\")\n"
   ]
  },
  {
   "cell_type": "markdown",
   "metadata": {},
   "source": [
    "#### Code explanation\n",
    "\n",
    "1. It creates a 4 element list where every single item could get values \"no_cure\" and \"cure\". You can create lists with *\\[ \\]*\n",
    "```python\n",
    "new_data = [\"no_cure\",\"no_cure\", \"no_cure\", \"cure\"]\n",
    "```\n",
    "2. Prints a message by using the function *print*\n",
    "```python\n",
    "print(\"As long there's new data to find the cure of leukaemia, you gotta keep trying...\")\n",
    "```\n",
    "3. Then loops in every single item in the list and checks if they are equal to \"cure\" to print a specific message.\n",
    "```python\n",
    "for item in new_data:\n",
    "    if item == \"cure\":\n",
    "```\n",
    "    * If item is cure, prints: \n",
    "   ```python \n",
    "    print(\"...until you find the cure!\")\n",
    "   ```\n",
    "    * Else, prints:\n",
    "   ```python \n",
    "    else:\n",
    "        print(\"...until you find the cure!\")\n",
    "        \n",
    "   ```\n",
    "\n",
    "We can summarize the success in finding the \"cure\" in the following table:\n",
    "\n",
    "| *\"cure\"* messages | *\"no_cure\"* messages |\n",
    "| --- | ----------- |\n",
    "| **1** | **3** |\n",
    "\n",
    "\n",
    "At the end of the day, we only need to find one! (althought we will find multiple ones depending on type, mutation or even patient!). If you want more information about leukaemia types and their treatments, you can visit [this website](https://www.cancer.gov/types/leukemia/research \"Title\")\n",
    "\n",
    "\n"
   ]
  },
  {
   "cell_type": "code",
   "execution_count": null,
   "metadata": {},
   "outputs": [],
   "source": []
  }
 ],
 "metadata": {
  "kernelspec": {
   "display_name": "Python 3 (ipykernel)",
   "language": "python",
   "name": "python3"
  },
  "language_info": {
   "codemirror_mode": {
    "name": "ipython",
    "version": 3
   },
   "file_extension": ".py",
   "mimetype": "text/x-python",
   "name": "python",
   "nbconvert_exporter": "python",
   "pygments_lexer": "ipython3",
   "version": "3.10.9"
  }
 },
 "nbformat": 4,
 "nbformat_minor": 4
}
